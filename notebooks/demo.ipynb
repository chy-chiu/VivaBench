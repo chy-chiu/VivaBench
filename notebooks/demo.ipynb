{
 "cells": [
  {
   "cell_type": "markdown",
   "id": "358a0ad8",
   "metadata": {
    "vscode": {
     "languageId": "plaintext"
    }
   },
   "source": [
    "### Introduction to VivaBench\n",
    "\n",
    "Thanks for checking out VivaBench! This notebook will introduce the core concepts of VivaBench, a multi-turn benchmark for LLM agents to assess their ability to form predictions and diagnose clinical conditions from incomplete information."
   ]
  },
  {
   "cell_type": "code",
   "execution_count": 2,
   "id": "63250dd0",
   "metadata": {},
   "outputs": [],
   "source": [
    "import os\n",
    "from langchain.chat_models import init_chat_model\n",
    "from vivabench import ClinicalCase"
   ]
  },
  {
   "cell_type": "markdown",
   "id": "c4f33cb8",
   "metadata": {},
   "source": [
    "\n",
    "#### Structured Clinical Case\n",
    "In VivaBench, clinical vignettes are structured as a `ClinicalCase`, which is the data format our evaluation framework use to benchmark LLMs.\n",
    "\n",
    "Each Clinical Case is structured into five sections - History, Physical Examination, Investigations, Imaging, and Diagnosis / Differentials.\n",
    "\n",
    "We further divide history into symptoms and other ancillary history items such as past medical history, social history etc."
   ]
  },
  {
   "cell_type": "code",
   "execution_count": 3,
   "id": "c1ab84cc",
   "metadata": {},
   "outputs": [
    {
     "name": "stdout",
     "output_type": "stream",
     "text": [
      "67 year old male presenting with sudden severe dizziness, unsteadiness, and double vision. \n",
      "==== Symptoms\n",
      "### Neurological\n",
      "## Dizziness\n",
      "- Present: True\n",
      "- Onset: sudden, two hours prior to arrival\n",
      "- Duration: persistent since onset\n",
      "- Progression: constant\n",
      "- Severity: 8/10\n",
      "- Character: severe spinning sensation (vertigo)\n",
      "- Aggravating factors: standing, moving his head\n",
      "- Associated symptoms: Nausea, Vomiting, Unsteady gait, Diplopia\n",
      "- Context: occurred while watching television\n",
      "- History: sudden, severe spinning sensation described as vertigo, constant and rated 8/10 in severity, associated with nausea and vomiting, worsened by standing or moving his head\n",
      "## Unsteady gait\n",
      "- Present: True\n",
      "- Onset: sudden, two hours prior to arrival\n",
      "- Duration: persistent since onset\n",
      "- Associated symptoms: Dizziness, Diplopia\n",
      "- Context: occurred while watching television\n",
      "## Paresthesia\n",
      "- Present: True\n",
      "- Onset: sudden, two hours prior to arrival\n",
      "- Duration: persistent since onset\n",
      "- Location: left side of face\n",
      "- Associated symptoms: Paresthesia of upper limb, Weakness of right upper limb\n",
      "- Context: occurred simultaneously with other symptoms\n",
      "## Paresthesia of upper limb\n",
      "- Present: True\n",
      "- Onset: sudden, two hours prior to arrival\n",
      "- Duration: persistent since onset\n",
      "- Location: right arm\n",
      "- Associated symptoms: Paresthesia, Weakness of right upper limb\n",
      "- Context: occurred simultaneously with other symptoms\n",
      "## Weakness of right upper limb\n",
      "- Present: True\n",
      "- Onset: sudden, two hours prior to arrival\n",
      "- Duration: persistent since onset\n",
      "- Severity: mild\n",
      "- Location: right arm\n",
      "- Associated symptoms: Paresthesia of upper limb, Paresthesia\n",
      "- Context: occurred simultaneously with other symptoms\n",
      "### Ophthalmological\n",
      "## Diplopia\n",
      "- Present: True\n",
      "- Onset: sudden, two hours prior to arrival\n",
      "- Duration: persistent since onset\n",
      "- Progression: persistent\n",
      "- Severity: 7/10\n",
      "- Character: blurred and double vision, difficulty focusing\n",
      "- Aggravating factors: looking to the left\n",
      "- Associated symptoms: Dizziness, Unsteady gait\n",
      "- Context: occurred while watching television\n",
      "- History: persistent blurred and double vision, worse when looking to the left, accompanied by difficulty focusing\n",
      "### Gastrointestinal\n",
      "## Nausea\n",
      "- Present: True\n",
      "- Onset: sudden, with dizziness\n",
      "- Associated symptoms: Dizziness, Vomiting\n",
      "- Context: associated with dizziness\n",
      "## Vomiting\n",
      "- Present: True\n",
      "- Onset: sudden, with dizziness\n",
      "- Associated symptoms: Dizziness, Nausea\n",
      "- Context: associated with dizziness\n",
      "\n",
      "==== Past Medical History\n",
      "- hypertension\n",
      "- type 2 diabetes mellitus\n",
      "- hyperlipidemia\n",
      "\n",
      "Allergies: No known allergies\n",
      "==== Social History\n",
      "Ex-smoker, 30.0 pack years smoking history.\n",
      "Quit 5 years ago years ago.\n",
      "Alcohol use: Occasional alcohol consumption\n",
      "Living situation: Lives with spouse\n",
      "Independent in activities of daily living: Yes\n",
      "\n",
      "==== Family History\n",
      "- Family - cerebrovascular disease - No family history\n",
      "- Family - early cardiac events - No family history\n",
      "==== Medications\n",
      "Nil medications\n",
      "\n",
      "==== Examination\n",
      "HR 84 bpm, BP 168/94 mmHg\n",
      "Neurological: Mental status: Alert and oriented.  Distress: Distressed by vertigo and nausea.  Cranial nerve examination: Left-sided ptosis, miosis, decreased corneal reflex, nystagmus on left lateral gaze.  Nystagmus: Nystagmus on left lateral gaze.  Sensation: Decreased pinprick sensation over left face and right arm.  Motor strength: Mild right arm weakness (4/5).  Gait: Ataxic, unable to perform tandem walking.  Cerebellar testing: Dysmetria on right. \n",
      "Cardiovascular: Examination: Unremarkable. \n",
      "Respiratory: Examination: Unremarkable. \n",
      "\n",
      "\n",
      "==== Investigations\n",
      "Bedside\n",
      "- Electrocardiogram: normal sinus rhythm  \n",
      "Blood\n",
      "- Glucose [Moles/volume] in Serum or Plasma --Fasting: 8.9 mmol/L \n",
      "- Low Density Lipoprotein Cholesterol: 3.7 mmol/L \n",
      "- Hemoglobin A1c/Hemoglobin.total in Blood: 7.8 % \n",
      "- Complete Blood Count: within normal limits  \n",
      "- Renal Function Tests: within normal limits  \n",
      "- Liver Function Tests: within normal limits  \n",
      "\n",
      "\n",
      "==== Imaging\n",
      "== CT BRAIN ==\n",
      "Unremarkable for acute hemorrhage\n",
      "\n",
      "== MRI BRAIN ==\n",
      "Acute infarct in the left lateral medulla\n",
      "\n",
      "\n",
      "==== Diagnosis\n",
      "### Acute left lateral medullary (Wallenberg) syndrome\n",
      "## ICD-10 code: I63\n",
      "## Factors contributing to diagnosis:\n",
      "# History\n",
      "- Dizziness\n",
      "- Unsteady gait\n",
      "- Diplopia\n",
      "- Nausea\n",
      "- Vomiting\n",
      "- Paresthesia\n",
      "- Paresthesia of upper limb\n",
      "- Weakness of right upper limb\n",
      "# Physical Examination\n",
      "- Cranial nerve examination: Left-sided ptosis, miosis, decreased corneal reflex, nystagmus on left lateral gaze. \n",
      "- Nystagmus: Nystagmus on left lateral gaze. \n",
      "- Sensation: Decreased pinprick sensation over left face and right arm. \n",
      "- Motor strength: Mild right arm weakness (4/5). \n",
      "- Gait: Ataxic, unable to perform tandem walking. \n",
      "- Cerebellar testing: Dysmetria on right. \n",
      "# Imaging\n",
      "- MRI BRAIN\n",
      "\n",
      "\n",
      "==== Other Differentials\n",
      "### Acute cerebellar infarction (PICA territory)\n",
      "## ICD-10 code: H81\n",
      "## Factors contributing to diagnosis:\n",
      "# History\n",
      "- Dizziness\n",
      "- Unsteady gait\n",
      "# Physical Examination\n",
      "- Gait: Ataxic, unable to perform tandem walking. \n",
      "- Cerebellar testing: Dysmetria on right. \n",
      "\n",
      "## Reasoning: Could be vertigo due to PICA infarcts involving the cerebellum. However, the presence of classic lateral medullary signs (crossed sensory loss, Horner's syndrome, cranial nerve findings) and MRI evidence of medullary infarct make Wallenberg syndrome the primary diagnosis, but acute cerebellar infarction in the PICA territory is a reasonable alternative given the vascular territory involved.\n",
      "\n"
     ]
    }
   ],
   "source": [
    "# Load sample case\n",
    "with open('example.json', 'r') as f:\n",
    "    clinical_case_json = f.read()\n",
    "    \n",
    "clinical_case = ClinicalCase.model_validate_json(clinical_case_json)\n",
    "\n",
    "# For each case, full information is provided for clinician review\n",
    "print(clinical_case.full_information)"
   ]
  },
  {
   "cell_type": "markdown",
   "id": "a4afdbfd",
   "metadata": {},
   "source": [
    "#### Information Parsing and Retrieval\n",
    "A key feature for VivaBench is its ability to perform multi-turn testing in a deterministic / quasi-determinstic manner, because of how we structure clinical information.\n",
    "\n",
    "Each time an agent asks for information, it is first matched with the most suitable items via SNOMED mapping, before parsing back into free-text responses. This prevents leakage while preserving a realistic simulation environment\n",
    "\n",
    "We provide determinstic and pseudo-deterministic (LLM) versions of mapper / parser. LLM versions have more flexibility but are not strictly deterministic (although we have tested it very thoroughly!)"
   ]
  },
  {
   "cell_type": "code",
   "execution_count": 19,
   "id": "8b9af595",
   "metadata": {},
   "outputs": [
    {
     "data": {
      "text/plain": [
       "{'history:symptoms:dizziness': 'Dizziness',\n",
       " 'history:symptoms:unsteady_gait': 'Unsteady gait',\n",
       " 'history:symptoms:diplopia': 'Diplopia',\n",
       " 'history:symptoms:nausea': 'Nausea',\n",
       " 'history:symptoms:vomiting': 'Vomiting',\n",
       " 'history:symptoms:paresthesia': 'Paresthesia',\n",
       " 'history:symptoms:paresthesia_of_upper_limb': 'Paresthesia of upper limb',\n",
       " 'history:symptoms:weakness_of_right_upper_limb': 'Weakness of right upper limb',\n",
       " 'history:social_history:smoking_pack_years': '30.0',\n",
       " 'history:social_history:smoking_quit': '5 years ago',\n",
       " 'history:social_history:alcohol_use': 'Occasional alcohol consumption',\n",
       " 'history:social_history:living_situation': 'Lives with spouse',\n",
       " 'history:social_history:independent_in_activities_of_daily_living': '',\n",
       " 'history:past_medical_history:hypertension': 'hypertension',\n",
       " 'history:past_medical_history:type_2_diabetes_mellitus': 'type 2 diabetes mellitus',\n",
       " 'history:past_medical_history:hyperlipidemia': 'hyperlipidemia',\n",
       " 'history:past_medical_history:stroke': 'stroke',\n",
       " 'history:past_medical_history:transient_ischemic_attack': 'transient ischemic attack',\n",
       " 'history:family_history:cerebrovascular_disease': 'cerebrovascular disease',\n",
       " 'history:family_history:early_cardiac_events': 'early cardiac events',\n",
       " 'physical:vitals': 'HR 84 bpm, BP 168/94 mmHg',\n",
       " 'physical:neurological:mental_status': 'Mental status: Alert and oriented. ',\n",
       " 'physical:neurological:distress': 'Distress: Distressed by vertigo and nausea. ',\n",
       " 'physical:neurological:cranial_nerve_examination': 'Cranial nerve examination: Left-sided ptosis, miosis, decreased corneal reflex, nystagmus on left lateral gaze. ',\n",
       " 'physical:neurological:nystagmus': 'Nystagmus: Nystagmus on left lateral gaze. ',\n",
       " 'physical:neurological:sensation': 'Sensation: Decreased pinprick sensation over left face and right arm. ',\n",
       " 'physical:neurological:motor_strength': 'Motor strength: Mild right arm weakness (4/5). ',\n",
       " 'physical:neurological:gait': 'Gait: Ataxic, unable to perform tandem walking. ',\n",
       " 'physical:neurological:cerebellar_testing': 'Cerebellar testing: Dysmetria on right. ',\n",
       " 'physical:cardiovascular:examination': 'Examination: Unremarkable. ',\n",
       " 'physical:respiratory:examination': 'Examination: Unremarkable. ',\n",
       " 'investigation:bedside:ecg': 'Electrocardiogram',\n",
       " 'investigation:blood:glucose_fasting': 'Glucose [Moles/volume] in Serum or Plasma --Fasting',\n",
       " 'investigation:blood:ldl_cholesterol': 'Low Density Lipoprotein Cholesterol',\n",
       " 'investigation:blood:hemoglobin_a1c': 'Hemoglobin A1c/Hemoglobin.total in Blood',\n",
       " 'investigation:blood:complete_blood_count': 'Complete Blood Count',\n",
       " 'investigation:blood:renal_function_tests': 'Renal Function Tests',\n",
       " 'investigation:blood:liver_function_tests': 'Liver Function Tests',\n",
       " 'imaging:CT Brain': '== CT BRAIN ==\\nUnremarkable for acute hemorrhage\\n',\n",
       " 'imaging:MRI Brain': '== MRI BRAIN ==\\nAcute infarct in the left lateral medulla\\n'}"
      ]
     },
     "execution_count": 19,
     "metadata": {},
     "output_type": "execute_result"
    }
   ],
   "source": [
    "# Here, we can see that each item associated with the patient's presentation are nicely structured into keys-value pairs\n",
    "clinical_case.dict()"
   ]
  },
  {
   "cell_type": "code",
   "execution_count": null,
   "id": "c9fbe447",
   "metadata": {},
   "outputs": [],
   "source": [
    "from vivabench.mapper import DeterminsticMapper, LLMMapper\n",
    "from vivabench.parser import DeterminsticParser, LLMParser"
   ]
  },
  {
   "cell_type": "code",
   "execution_count": 23,
   "id": "2abe5c4d",
   "metadata": {},
   "outputs": [],
   "source": [
    "model = init_chat_model(\"openai:gpt-4.1\", temperature=0, api_key=os.environ['OPENAI_API'])\n",
    "\n",
    "det_mapper = DeterminsticMapper(clinical_case, snomed_embeddings_path=\"../medical/snomed_embeddings\")\n",
    "llm_mapper = LLMMapper(clinical_case, model=model)"
   ]
  },
  {
   "cell_type": "code",
   "execution_count": 38,
   "id": "57b3e5c6",
   "metadata": {},
   "outputs": [
    {
     "data": {
      "text/plain": [
       "{'matched': [{'query': 'Do you have any dizziness, nausea, or vomiting?',\n",
       "   'key': 'symptoms:dizziness'},\n",
       "  {'query': 'Do you have any dizziness, nausea, or vomiting?',\n",
       "   'key': 'symptoms:nausea'},\n",
       "  {'query': 'Do you have any dizziness, nausea, or vomiting?',\n",
       "   'key': 'symptoms:vomiting'}],\n",
       " 'unmatched': [{'query': 'How about any chest pain?',\n",
       "   'key': 'symptoms:chest_pain'}]}"
      ]
     },
     "execution_count": 38,
     "metadata": {},
     "output_type": "execute_result"
    }
   ],
   "source": [
    "# For each request, the mapper returns set of matched / unmatched keys, and the relevant query\n",
    "query = \"Do you have any dizziness, nausea, or vomiting? How about any chest pain?\"\n",
    "requests = llm_mapper.map_history_requests(query)\n",
    "requests"
   ]
  },
  {
   "cell_type": "code",
   "execution_count": 36,
   "id": "b48a3b0c",
   "metadata": {},
   "outputs": [
    {
     "data": {
      "text/plain": [
       "{'matched': [{'query': 'dizziness', 'key': 'symptoms:dizziness'},\n",
       "  {'query': 'nausea', 'key': 'symptoms:nausea'},\n",
       "  {'query': 'nausea', 'key': 'symptoms:vomiting'},\n",
       "  {'query': 'vomiting', 'key': 'symptoms:nausea'},\n",
       "  {'query': 'vomiting', 'key': 'symptoms:vomiting'}],\n",
       " 'unmatched': [{'query': 'chest pain', 'key': 'chest_pain'}]}"
      ]
     },
     "execution_count": 36,
     "metadata": {},
     "output_type": "execute_result"
    }
   ],
   "source": [
    "# Deterministict mapper does the same using entity extraction with SpaCy. The queries are more brief but overall accurate\n",
    "det_mapper.map_history_requests(query)"
   ]
  },
  {
   "cell_type": "code",
   "execution_count": 47,
   "id": "dd4f9825",
   "metadata": {},
   "outputs": [
    {
     "data": {
      "text/plain": [
       "{'dizziness': Symptom(name='Dizziness', present=True, onset='sudden, two hours prior to arrival', duration='persistent since onset', progression='constant', timing=None, severity='8/10', system='neurological', location=None, character='severe spinning sensation (vertigo)', radiation=None, alleviating_factors=[], aggravating_factors=['standing', 'moving his head'], associated_symptoms=['Nausea', 'Vomiting', 'Unsteady gait', 'Diplopia'], context='occurred while watching television', history='sudden, severe spinning sensation described as vertigo, constant and rated 8/10 in severity, associated with nausea and vomiting, worsened by standing or moving his head'),\n",
       " 'unsteady_gait': Symptom(name='Unsteady gait', present=True, onset='sudden, two hours prior to arrival', duration='persistent since onset', progression=None, timing=None, severity=None, system='neurological', location=None, character=None, radiation=None, alleviating_factors=[], aggravating_factors=[], associated_symptoms=['Dizziness', 'Diplopia'], context='occurred while watching television', history=None),\n",
       " 'diplopia': Symptom(name='Diplopia', present=True, onset='sudden, two hours prior to arrival', duration='persistent since onset', progression='persistent', timing=None, severity='7/10', system='ophthalmological', location=None, character='blurred and double vision, difficulty focusing', radiation=None, alleviating_factors=[], aggravating_factors=['looking to the left'], associated_symptoms=['Dizziness', 'Unsteady gait'], context='occurred while watching television', history='persistent blurred and double vision, worse when looking to the left, accompanied by difficulty focusing'),\n",
       " 'nausea': Symptom(name='Nausea', present=True, onset='sudden, with dizziness', duration=None, progression=None, timing=None, severity=None, system='gastrointestinal', location=None, character=None, radiation=None, alleviating_factors=[], aggravating_factors=[], associated_symptoms=['Dizziness', 'Vomiting'], context='associated with dizziness', history=None),\n",
       " 'vomiting': Symptom(name='Vomiting', present=True, onset='sudden, with dizziness', duration=None, progression=None, timing=None, severity=None, system='gastrointestinal', location=None, character=None, radiation=None, alleviating_factors=[], aggravating_factors=[], associated_symptoms=['Dizziness', 'Nausea'], context='associated with dizziness', history=None),\n",
       " 'paresthesia': Symptom(name='Paresthesia', present=True, onset='sudden, two hours prior to arrival', duration='persistent since onset', progression=None, timing=None, severity=None, system='neurological', location='left side of face', character=None, radiation=None, alleviating_factors=[], aggravating_factors=[], associated_symptoms=['Paresthesia of upper limb', 'Weakness of right upper limb'], context='occurred simultaneously with other symptoms', history=None),\n",
       " 'paresthesia_of_upper_limb': Symptom(name='Paresthesia of upper limb', present=True, onset='sudden, two hours prior to arrival', duration='persistent since onset', progression=None, timing=None, severity=None, system='neurological', location='right arm', character=None, radiation=None, alleviating_factors=[], aggravating_factors=[], associated_symptoms=['Paresthesia', 'Weakness of right upper limb'], context='occurred simultaneously with other symptoms', history=None),\n",
       " 'weakness_of_right_upper_limb': Symptom(name='Weakness of right upper limb', present=True, onset='sudden, two hours prior to arrival', duration='persistent since onset', progression=None, timing=None, severity='mild', system='neurological', location='right arm', character=None, radiation=None, alleviating_factors=[], aggravating_factors=[], associated_symptoms=['Paresthesia of upper limb', 'Paresthesia'], context='occurred simultaneously with other symptoms', history=None)}"
      ]
     },
     "execution_count": 47,
     "metadata": {},
     "output_type": "execute_result"
    }
   ],
   "source": [
    "clinical_case.history.symptoms"
   ]
  },
  {
   "cell_type": "code",
   "execution_count": 65,
   "id": "09e5d04d",
   "metadata": {},
   "outputs": [
    {
     "data": {
      "text/plain": [
       "{'matched': [{'query': 'Tell me more about the dizziness.',\n",
       "   'key': 'symptoms:dizziness'},\n",
       "  {'query': 'And do you have other symptoms?',\n",
       "   'key': 'symptoms:unsteady_gait'}],\n",
       " 'unmatched': [{'query': 'Does it feel like the world is spinning?',\n",
       "   'key': 'symptoms:vertigo'}]}"
      ]
     },
     "execution_count": 65,
     "metadata": {},
     "output_type": "execute_result"
    }
   ],
   "source": [
    "# Other supported methods\n",
    "# llm_mapper.map_physical_requests\n",
    "# llm_mapper.map_imaging_requests\n",
    "# llm_mapper.map_investigation_requests\n",
    "# For symptoms in particular, there are also additional modifiers under [addit] that agents will need to elucidate to pinpoint the diagnosis.\n",
    "\n",
    "query = \"Tell me more about the dizziness. Does it feel like the world is spinning? And do you have other symptoms?\"\n",
    "requests = llm_mapper.map_history_requests(query)\n",
    "requests"
   ]
  },
  {
   "cell_type": "code",
   "execution_count": 75,
   "id": "6759c7b9",
   "metadata": {},
   "outputs": [],
   "source": [
    "det_parser = DeterminsticParser(clinical_case)\n",
    "llm_parser = LLMParser(clincase=clinical_case, model=model)"
   ]
  },
  {
   "cell_type": "code",
   "execution_count": 76,
   "id": "edbd5cff",
   "metadata": {},
   "outputs": [
    {
     "name": "stdout",
     "output_type": "stream",
     "text": [
      "Deterministic version:\n",
      "The patient experiences dizziness, unsteady gait.\n",
      "\n",
      "\n",
      "\n",
      "Negative: Vertigo.\n",
      "LLM version:\n",
      "The dizziness came on really suddenly and it feels very severe, but it doesn’t feel like the world is spinning. I also feel really unsteady on my feet, like I might lose my balance.\n"
     ]
    }
   ],
   "source": [
    "# In general, both parser versions provide the same information. However, the LLM version is more expressive for LLM / human end users\n",
    "print(\"Deterministic version:\")\n",
    "print(det_parser.parse_history_requests(query, requests))\n",
    "print(\"LLM version:\")\n",
    "print(llm_parser.parse_history_requests(query, requests))"
   ]
  },
  {
   "cell_type": "markdown",
   "id": "d19c9d60",
   "metadata": {},
   "source": [
    "#### Examination and Metrics\n",
    "\n",
    "The following is en example of the VivaBench evaluation framework. Each ClinicalCase is contained within an Examination, which is the test harness to test any LLM agent"
   ]
  },
  {
   "cell_type": "code",
   "execution_count": null,
   "id": "ad756bd6",
   "metadata": {},
   "outputs": [],
   "source": [
    "from vivabench import Examination\n",
    "from vivabench.utils import transform_agent_trace\n",
    "\n",
    "# We will just use the same model to test for now\n",
    "examination = Examination(agent_model=model, clincase=clinical_case, examiner_model=model)\n",
    "trace, stats = examination.conduct_examination()"
   ]
  },
  {
   "cell_type": "code",
   "execution_count": 18,
   "id": "5e7fe379",
   "metadata": {},
   "outputs": [
    {
     "name": "stdout",
     "output_type": "stream",
     "text": [
      "Examiner: Clinical case stem: 67 year old male presenting with sudden severe dizziness, unsteadiness, and double vision.\n",
      "HR 84 bpm, BP 168/94 mmHg\n",
      "Please review and diagnose the patient.\n",
      "========================================================\n",
      "Agent: The patient's sudden onset of severe dizziness, unsteadiness, and double vision suggests a possible acute neurological event, such as a stroke or transient ischemic attack, particularly involving the posterior circulation. I need to clarify the onset, associated symptoms, and any vascular risk factors.\n",
      "[history] When did your symptoms start? Have you experienced any weakness, numbness, difficulty speaking, or trouble swallowing?\n",
      "========================================================\n",
      "Examiner: My dizziness started very suddenly about two hours ago, and it’s been constant since then. I have noticed some numbness or tingling, but I haven’t had any weakness, trouble speaking, or difficulty swallowing.\n",
      "========================================================\n",
      "Agent: The sudden onset of severe dizziness, unsteadiness, double vision, and numbness/tingling raises concern for a posterior circulation stroke or TIA. I need to further assess for other neurological deficits and risk factors.\n",
      "[history] Can you describe exactly where you feel the numbness or tingling? Do you have any history of stroke, heart disease, diabetes, or smoking?\n",
      "========================================================\n",
      "Examiner: The numbness and tingling is on the left side of my face.\n",
      "\n",
      "I don’t have any history of stroke or heart disease. I do have type 2 diabetes. I don’t smoke.\n",
      "========================================================\n",
      "Agent: The patient has sudden onset severe dizziness, unsteadiness, double vision, and left facial numbness, with vascular risk factors (age, hypertension, diabetes). These symptoms suggest a possible posterior circulation stroke (brainstem or cerebellar), but other differentials include vestibular neuritis and multiple sclerosis, though these are less likely given the acute onset and vascular risk profile.\n",
      "[examination] I want to perform a detailed neurological examination, focusing on cranial nerves (especially III, IV, VI for eye movements, V for facial sensation, VII for facial weakness), limb strength, coordination (finger-nose, heel-shin), gait, and cerebellar signs (nystagmus, dysmetria, ataxia).\n",
      "========================================================\n",
      "Examiner: Neurological:  \n",
      "Cranial nerves: Left-sided ptosis, miosis, decreased corneal reflex, nystagmus on left lateral gaze.  \n",
      "Limb strength: Mild right arm weakness (4/5).  \n",
      "Coordination: Dysmetria on right.  \n",
      "Gait: Ataxic, unable to perform tandem walking.  \n",
      "Cerebellar signs: Nystagmus on left lateral gaze.  \n",
      "Facial sensation: Decreased corneal reflex on left.  \n",
      "Facial weakness: Unable to elicit.  \n",
      "Eye movements (III, IV, VI): Nystagmus on left lateral gaze.  \n",
      "Dysmetria: Present on right.  \n",
      "Ataxia: Unable to perform tandem walking.\n",
      "========================================================\n",
      "Agent: The patient has sudden onset of severe dizziness, unsteadiness, double vision, left-sided Horner's syndrome (ptosis, miosis), decreased corneal reflex, nystagmus, right-sided limb weakness and dysmetria, and ataxia. This constellation of crossed neurological findings (cranial nerve findings on one side, motor/coordination findings on the other) is highly suggestive of a brainstem stroke, likely in the posterior circulation, such as lateral medullary (Wallenberg) syndrome or a posterior inferior cerebellar artery (PICA) stroke. Other differentials are less likely given the acute onset and focal findings.\n",
      "[diagnosis provisional] (condition: Posterior circulation stroke (likely lateral medullary syndrome), confidence: 0.9), (condition: Cerebellar infarction, confidence: 0.5), (condition: Brainstem tumor, confidence: 0.1)\n",
      "========================================================\n",
      "Examiner: Thank you. Please proceed to imaging and lab investigations.\n",
      "========================================================\n",
      "Agent: The patient's presentation and examination findings are highly suggestive of a posterior circulation stroke, possibly involving the brainstem or cerebellum. An urgent MRI of the brain is needed to confirm the diagnosis and localize the lesion. CT may be less sensitive in the posterior fossa, but can be considered if MRI is unavailable or contraindicated.\n",
      "[imaging] Order an urgent MRI brain with diffusion-weighted imaging to assess for acute ischemia, particularly in the posterior fossa (brainstem and cerebellum).\n",
      "========================================================\n",
      "Examiner: == MRI BRAIN ==\n",
      "Acute infarct in the left lateral medulla\n",
      "\n",
      "========================================================\n",
      "Agent: The clinical presentation and MRI findings confirm an acute infarct in the left lateral medulla, consistent with lateral medullary (Wallenberg) syndrome. The neurological findings (ipsilateral facial sensory loss, contralateral limb weakness and dysmetria, ataxia, nystagmus, and Horner's syndrome) are classic for this diagnosis. No evidence supports alternative diagnoses at this time.\n",
      "[diagnosis final] (condition: Lateral medullary syndrome (Wallenberg syndrome) due to acute infarct, confidence: 1.0)\n",
      "========================================================\n"
     ]
    }
   ],
   "source": [
    "# The full interaction with agent, including reasoning is preserved\n",
    "for t in trace[1:]:\n",
    "    if 'action' in t.lower():\n",
    "        print(transform_agent_trace(t))\n",
    "    else:\n",
    "        print(\"Examiner:\", t)\n",
    "    print(\"========================================================\")"
   ]
  },
  {
   "cell_type": "code",
   "execution_count": 19,
   "id": "23cc158b",
   "metadata": {},
   "outputs": [
    {
     "name": "stdout",
     "output_type": "stream",
     "text": [
      "Using preloaded embeddings for icd-10 mapping\n"
     ]
    }
   ],
   "source": [
    "from vivabench.metrics import EvaluationMetrics\n",
    "metrics = EvaluationMetrics(\n",
    "    icd_embedding_path=\"../medical/icd_embeddings\",\n",
    "    icd_mapping_path=\"../medical/d_icd_diagnoses.csv\"\n",
    ")"
   ]
  },
  {
   "cell_type": "code",
   "execution_count": 76,
   "id": "ef967c14",
   "metadata": {},
   "outputs": [
    {
     "name": "stdout",
     "output_type": "stream",
     "text": [
      "dict_keys(['final_top1_exact', 'final_top1_approx', 'final_top2_exact', 'final_top2_approx', 'final_top3_exact', 'final_top3_approx', 'final_top4_exact', 'final_top4_approx', 'final_top5_exact', 'final_top5_approx', 'final_confidence_score', 'provisional_top1_exact', 'provisional_top1_approx', 'provisional_top2_exact', 'provisional_top2_approx', 'provisional_top3_exact', 'provisional_top3_approx', 'provisional_top4_exact', 'provisional_top4_approx', 'provisional_top5_exact', 'provisional_top5_approx', 'provisional_confidence_score', 'full_info_top1_exact', 'full_info_top1_approx', 'full_info_top2_exact', 'full_info_top2_approx', 'full_info_top3_exact', 'full_info_top3_approx', 'full_info_top4_exact', 'full_info_top4_approx', 'full_info_top5_exact', 'full_info_top5_approx', 'full_info_confidence_score', 'hp_matched_precision', 'hp_matched_recall', 'hp_matched_f1', 'hp_matched_relevant_ordered_count', 'hp_matched_total_ordered_count', 'hp_matched_total_relevant_count', 'hp_all_precision', 'hp_all_recall', 'hp_all_f1', 'hp_all_relevant_ordered_count', 'hp_all_total_ordered_count', 'hp_all_total_relevant_count', 'ix_matched_precision', 'ix_matched_recall', 'ix_matched_f1', 'ix_matched_relevant_ordered_count', 'ix_matched_total_ordered_count', 'ix_matched_total_relevant_count', 'ix_all_precision', 'ix_all_recall', 'ix_all_f1', 'ix_all_relevant_ordered_count', 'ix_all_total_ordered_count', 'ix_all_total_relevant_count', 'diagnoses_added', 'diagnoses_removed', 'diagnoses_maintained', 'exact_accuracy_change', 'approx_accuracy_change', 'confidence_score_change', 'confidence_shifts', 'total_change_magnitude', 'matched_keys_count', 'unmatched_case_keys_count', 'unmatched_request_keys_count', 'confidence_value_final', 'confidence_value_provisional', 'confidence_value_full_info', 'confidence_value_final_exact', 'confidence_value_provisional_exact', 'confidence_value_full_info_exact', 'confidence_value_final_approx_exact', 'confidence_value_provisional_approx_exact', 'confidence_value_full_info_approx_exact', 'confidence_value_final_unmatched'])\n"
     ]
    }
   ],
   "source": [
    "# These are the metrics we calculate / track. See documentation / paper for full explanation of what they mean\n",
    "metrics.load_results(gt_diagnosis=clinical_case.diagnosis, \n",
    "                     gt_differentials=clinical_case.differentials,\n",
    "                     matched_keys=stats['matched_keys'],\n",
    "                     unmatched_case_keys=stats['unmatched_case_keys'],\n",
    "                     unmatched_request_keys=stats['unmatched_request_keys'],\n",
    "                     provisional_diagnosis=stats['provisional_diagnosis'],\n",
    "                     final_diagnosis=stats['final_diagnosis'],\n",
    "                     full_info_diagnosis=stats['full_info_diagnosis'],\n",
    "                     )\n",
    "_metrics = metrics.compute_all_metrics()\n",
    "print(_metrics.keys())\n"
   ]
  },
  {
   "cell_type": "markdown",
   "id": "4428eefa",
   "metadata": {},
   "source": [
    "#### Generating new cases\n",
    "Lastly, VivaBench is meant to be expandable, in that you can throw in any clinical snippets and it would be able to generate a structured Clinical Case for you. \n",
    "However, in general we recommend including as much clinical information as possible"
   ]
  },
  {
   "cell_type": "code",
   "execution_count": null,
   "id": "6cac0d3f",
   "metadata": {},
   "outputs": [],
   "source": [
    "input_vignette = \"\"\"\n",
    "A 58-year-old male presented to the emergency department with a 90-minute history of severe, central chest pain. The pain began suddenly while he was watching television, described as a crushing, pressure-like sensation in the lower central chest, radiating to his epigastrium and occasionally to his left shoulder. The pain was constant, rated 9/10 in severity, and associated with profuse sweating, nausea, and one episode of vomiting. He reported that the pain was not relieved by rest or sublingual nitroglycerin, which he had taken at home. He denied any preceding exertion, palpitations, or syncope.\n",
    "\n",
    "His past medical history included hypertension, hypercholesterolemia, and stable angina for which he was on aspirin, atorvastatin, and amlodipine. He had a 40 pack-year smoking history and continued to smoke one pack per day. He consumed alcohol socially and had a sedentary lifestyle. There was a strong family history of premature coronary artery disease; his father died of a myocardial infarction at age 54.\n",
    "\n",
    "On examination, he appeared anxious and diaphoretic. Blood pressure was 98/62 mmHg, pulse 54 bpm and regular, respiratory rate 20/min, and oxygen saturation 97% on room air. Jugular venous pressure was mildly elevated. Cardiac examination revealed a soft S4 gallop but no murmurs. Lungs were clear to auscultation. Peripheral pulses were intact, and there was no peripheral edema.\n",
    "\n",
    "Laboratory investigations revealed elevated troponin I (2.8 ng/mL, reference <0.04 ng/mL), CK-MB 38 U/L (reference <5 U/L), and mild leukocytosis. Renal and liver function tests were within normal limits. Lipid profile showed elevated LDL cholesterol (4.2 mmol/L).\n",
    "\n",
    "The ECG demonstrated ST-segment elevation in leads II, III, and aVF, with reciprocal ST depression in leads I and aVL, and bradycardia consistent with sinus rhythm. There was also evidence of first-degree AV block (PR interval 220 ms).\n",
    "\n",
    "A bedside echocardiogram showed hypokinesis of the inferior wall of the left ventricle with preserved overall ejection fraction.\n",
    "\n",
    "The diagnosis was acute inferior ST-elevation myocardial infarction (STEMI), ICD-10 code I21.1 (Acute transmural myocardial infarction of inferior wall).\"\"\""
   ]
  },
  {
   "cell_type": "code",
   "execution_count": 79,
   "id": "5bc3bd98",
   "metadata": {},
   "outputs": [
    {
     "name": "stdout",
     "output_type": "stream",
     "text": [
      "2025-05-29 22:18:22.293 | INFO     | vivabench.generator:__init__:102 - Using preloaded embeddings for SNOMED\n",
      "2025-05-29 22:18:28.007 | INFO     | vivabench.generator:__init__:111 - Using preloaded embeddings for icd-10 mapping\n"
     ]
    }
   ],
   "source": [
    "from vivabench import CaseGenerator\n",
    "generator = CaseGenerator(model, \n",
    "                          snomed_embedding_path=\"../medical/snomed_embeddings\",\n",
    "                          icd_embedding_path=\"../medical/icd_embeddings\",\n",
    "                          icd_mapping_path=\"../medical/d_icd_diagnoses.csv\")"
   ]
  },
  {
   "cell_type": "code",
   "execution_count": 80,
   "id": "bfe2b668",
   "metadata": {},
   "outputs": [
    {
     "name": "stdout",
     "output_type": "stream",
     "text": [
      "2025-05-29 22:18:58.008 | INFO     | vivabench.generator:generate_case:760 - Parsing diagnosis from vignette\n"
     ]
    }
   ],
   "source": [
    "gen_results = await generator.generate_case(vignette = input_vignette)"
   ]
  },
  {
   "cell_type": "code",
   "execution_count": 81,
   "id": "75df682e",
   "metadata": {},
   "outputs": [
    {
     "name": "stdout",
     "output_type": "stream",
     "text": [
      "58 year old male presenting with chest pain. \n",
      "==== Symptoms\n",
      "### Cardiovascular\n",
      "## Chest pain\n",
      "- Present: True\n",
      "- Onset: sudden\n",
      "- Duration: 90 minutes\n",
      "- Progression: constant\n",
      "- Severity: 9/10\n",
      "- Location: lower central chest\n",
      "- Character: crushing, pressure-like\n",
      "- Radiation: epigastrium and occasionally to left shoulder\n",
      "- Associated symptoms: Excessive sweating, Nausea, Vomiting\n",
      "- Context: occurred while watching television, not relieved by rest or sublingual nitroglycerin\n",
      "- History: no preceding exertion\n",
      "### Autonomic\n",
      "## Excessive sweating\n",
      "- Present: True\n",
      "- Context: accompanied chest pain\n",
      "### Gastrointestinal\n",
      "## Nausea\n",
      "- Present: True\n",
      "- Context: accompanied chest pain\n",
      "## Vomiting\n",
      "- Present: True\n",
      "- Onset: one episode\n",
      "- Context: accompanied chest pain\n",
      "\n",
      "==== Past Medical History\n",
      "- hypertension\n",
      "- hypercholesterolemia\n",
      "- stable angina\n",
      "\n",
      "Allergies: No known allergies\n",
      "==== Social History\n",
      "Current smoker, 40.0 pack years smoking history.\n",
      "Alcohol use: Consumes alcohol socially\n",
      "Exercise: Sedentary lifestyle\n",
      "\n",
      "==== Family History\n",
      "- Family (strong history) - coronary artery disease - Premature\n",
      "- Father - myocardial infarction. Happened at age 54.  - Deceased\n",
      "==== Medications\n",
      "- Aspirin oral\n",
      "- Atorvastatin oral\n",
      "- Amlodipine oral\n",
      "- Sublingual nitroglycerin sublingual\n",
      "\n",
      "==== Examination\n",
      "HR 54 bpm, BP 98/62 mmHg, RR 20/min, O2 sat 97%\n",
      "General: Appearance: Anxious and diaphoretic appearance. \n",
      "Cardiovascular: Jugular venous pressure: Mildly elevated jugular venous pressure.  Heart sounds: Soft S4 gallop, no murmurs. \n",
      "Respiratory: Breath sounds: Clear to auscultation. \n",
      "Peripheral: Pulses: Peripheral pulses intact.  Edema: No peripheral edema. \n",
      "\n",
      "\n",
      "==== Investigations\n",
      "Bedside\n",
      "- Electrocardiogram: ST-segment elevation in leads II, III, and aVF; reciprocal ST depression in leads I and aVL; bradycardia with sinus rhythm; first-degree AV block (PR interval 220 ms)  \n",
      "Blood\n",
      "- Troponin I, Cardiac: 2.8 ng/mL (<0.04 ng/mL)\n",
      "- Creatine Kinase MB (CK-MB): 38 U/L (<5 U/L)\n",
      "- White Blood Cell Count: mild leukocytosis  \n",
      "- Renal Function Tests: normal  \n",
      "- Liver Function Tests: normal  \n",
      "- Low Density Lipoprotein Cholesterol: 4.2 mmol/L \n",
      "\n",
      "\n",
      "==== Imaging\n",
      "== ECHOCARDIOGRAPHY HEART ==\n",
      "Hypokinesis of the inferior wall of the left ventricle with preserved overall ejection fraction\n",
      "\n",
      "\n",
      "==== Diagnosis\n",
      "### Acute inferior ST-elevation myocardial infarction (STEMI)\n",
      "## ICD-10 code: I21.1\n",
      "## Factors contributing to diagnosis:\n",
      "# History\n",
      "- Chest pain\n",
      "- Excessive sweating\n",
      "- Nausea\n",
      "- Vomiting\n",
      "- True\n",
      "- 40.0\n",
      "- hypertension\n",
      "- hypercholesterolemia\n",
      "- stable angina\n",
      "- coronary artery disease\n",
      "- myocardial infarction\n",
      "# Physical Examination\n",
      "- Appearance: Anxious and diaphoretic appearance. \n",
      "- HR 54 bpm, BP 98/62 mmHg, RR 20/min, O2 sat 97%\n",
      "# Investigations\n",
      "- Troponin I, Cardiac: 2.8 ng/mL (<0.04 ng/mL)\n",
      "- Creatine Kinase MB (CK-MB): 38 U/L (<5 U/L)\n",
      "- Electrocardiogram: ST-segment elevation in leads II, III, and aVF; reciprocal ST depression in leads I and aVL; bradycardia with sinus rhythm; first-degree AV block (PR interval 220 ms)  \n",
      "# Imaging\n",
      "- ECHOCARDIOGRAPHY HEART\n",
      "\n",
      "\n",
      "==== Other Differentials\n",
      "### Right ventricular myocardial infarction\n",
      "## ICD-10 code: I21.29\n",
      "## Factors contributing to diagnosis:\n",
      "# Physical Examination\n",
      "- HR 54 bpm, BP 98/62 mmHg, RR 20/min, O2 sat 97%\n",
      "- Jugular venous pressure: Mildly elevated jugular venous pressure. \n",
      "- Breath sounds: Clear to auscultation. \n",
      "# Investigations\n",
      "- Electrocardiogram: ST-segment elevation in leads II, III, and aVF; reciprocal ST depression in leads I and aVL; bradycardia with sinus rhythm; first-degree AV block (PR interval 220 ms)  \n",
      "\n",
      "## Reasoning: The presence of hypotension, bradycardia, mildly elevated JVP, and clear lungs in the context of an inferior STEMI is suggestive of right ventricular involvement. While not definitively confirmed without right-sided ECG leads, these findings make right ventricular infarction a reasonable alternative diagnosis.\n",
      "\n"
     ]
    }
   ],
   "source": [
    "# Remember to double check the generate results first prior to using it in evaluation!\n",
    "print(ClinicalCase.model_validate_json(gen_results['output']).full_information)"
   ]
  }
 ],
 "metadata": {
  "kernelspec": {
   "display_name": ".venv",
   "language": "python",
   "name": "python3"
  },
  "language_info": {
   "codemirror_mode": {
    "name": "ipython",
    "version": 3
   },
   "file_extension": ".py",
   "mimetype": "text/x-python",
   "name": "python",
   "nbconvert_exporter": "python",
   "pygments_lexer": "ipython3",
   "version": "3.11.11"
  }
 },
 "nbformat": 4,
 "nbformat_minor": 5
}
